{
 "cells": [
  {
   "cell_type": "markdown",
   "metadata": {},
   "source": [
    "# Alpaca Test trading api"
   ]
  },
  {
   "cell_type": "code",
   "execution_count": null,
   "metadata": {},
   "outputs": [],
   "source": [
    "# Please change the following to your own PAPER api key and secret\n",
    "# or set them as environment variables (ALPACA_API_KEY, ALPACA_SECRET_KEY).\n",
    "# You can get them from https://alpaca.markets/\n",
    "\n",
    "api_key = PLACEHOLDER\n",
    "secret_key = PLACEHOLDER\n",
    "\n",
    "#### We use paper environment for this example ####\n",
    "paper = True # Please do not modify this. This example is for paper trading only.\n",
    "####\n",
    "\n",
    "# Below are the variables for development this documents\n",
    "# Please do not change these variables\n",
    "trade_api_url = None\n",
    "trade_api_wss = None\n",
    "data_api_url = None\n",
    "stream_data_wss = None"
   ]
  },
  {
   "cell_type": "code",
   "execution_count": 2,
   "metadata": {},
   "outputs": [],
   "source": [
    "import os\n",
    "\n",
    "if api_key is None:\n",
    "    api_key = os.environ.get('ALPACA_API_KEY')\n",
    "\n",
    "if secret_key is None:\n",
    "    secret_key = os.environ.get('ALPACA_SECRET_KEY')"
   ]
  },
  {
   "cell_type": "code",
   "execution_count": 3,
   "metadata": {},
   "outputs": [],
   "source": [
    "# install alpaca-py if it is not available\n",
    "try:\n",
    "    import alpaca\n",
    "except ImportError:\n",
    "    !python3 -m pip install alpaca-py\n",
    "    import alpaca"
   ]
  },
  {
   "cell_type": "code",
   "execution_count": 4,
   "metadata": {},
   "outputs": [],
   "source": [
    "from datetime import datetime, timedelta\n",
    "from zoneinfo import ZoneInfo\n",
    "\n",
    "from alpaca.trading.client import TradingClient\n",
    "from alpaca.data.timeframe import TimeFrame, TimeFrameUnit\n",
    "from alpaca.data.historical.corporate_actions import CorporateActionsClient\n",
    "from alpaca.data.historical.stock import StockHistoricalDataClient\n",
    "from alpaca.trading.stream import TradingStream\n",
    "from alpaca.data.live.stock import StockDataStream\n",
    "\n",
    "from alpaca.data.requests import (\n",
    "    CorporateActionsRequest,\n",
    "    StockBarsRequest,\n",
    "    StockQuotesRequest,\n",
    "    StockTradesRequest,\n",
    ")\n",
    "from alpaca.trading.requests import (\n",
    "    ClosePositionRequest,\n",
    "    GetAssetsRequest,\n",
    "    GetOrdersRequest,\n",
    "    LimitOrderRequest,\n",
    "    MarketOrderRequest,\n",
    "    StopLimitOrderRequest,\n",
    "    StopLossRequest,\n",
    "    StopOrderRequest,\n",
    "    TakeProfitRequest,\n",
    "    TrailingStopOrderRequest,\n",
    ")\n",
    "from alpaca.trading.enums import (\n",
    "    AssetExchange,\n",
    "    AssetStatus,\n",
    "    OrderClass,\n",
    "    OrderSide,\n",
    "    OrderType,\n",
    "    QueryOrderStatus,\n",
    "    TimeInForce,\n",
    ")"
   ]
  },
  {
   "cell_type": "code",
   "execution_count": 5,
   "metadata": {},
   "outputs": [],
   "source": [
    "# to run async code in jupyter notebook\n",
    "import nest_asyncio\n",
    "nest_asyncio.apply()"
   ]
  },
  {
   "cell_type": "code",
   "execution_count": 6,
   "metadata": {},
   "outputs": [
    {
     "data": {
      "text/plain": [
       "'0.39.2'"
      ]
     },
     "execution_count": 6,
     "metadata": {},
     "output_type": "execute_result"
    }
   ],
   "source": [
    "# check version of alpaca-py\n",
    "alpaca.__version__"
   ]
  },
  {
   "cell_type": "markdown",
   "metadata": {},
   "source": [
    "## Trading Client"
   ]
  },
  {
   "cell_type": "code",
   "execution_count": 7,
   "metadata": {},
   "outputs": [],
   "source": [
    "# setup clients\n",
    "trade_client = TradingClient(api_key=api_key, secret_key=secret_key, paper=paper, url_override=trade_api_url)"
   ]
  },
  {
   "cell_type": "code",
   "execution_count": 8,
   "metadata": {},
   "outputs": [
    {
     "data": {
      "text/plain": [
       "{   'account_blocked': False,\n",
       "    'account_number': 'PA3YMTAHAAMA',\n",
       "    'accrued_fees': '0',\n",
       "    'buying_power': '200000',\n",
       "    'cash': '100000',\n",
       "    'created_at': datetime.datetime(2025, 4, 12, 14, 45, 12, 45501, tzinfo=TzInfo(UTC)),\n",
       "    'crypto_status': <AccountStatus.ACTIVE: 'ACTIVE'>,\n",
       "    'currency': 'USD',\n",
       "    'daytrade_count': 0,\n",
       "    'daytrading_buying_power': '0',\n",
       "    'equity': '100000',\n",
       "    'id': UUID('1129e189-fe13-4ddf-9d72-f75b443057e1'),\n",
       "    'initial_margin': '0',\n",
       "    'last_equity': '100000',\n",
       "    'last_maintenance_margin': '0',\n",
       "    'long_market_value': '0',\n",
       "    'maintenance_margin': '0',\n",
       "    'multiplier': '2',\n",
       "    'non_marginable_buying_power': '100000',\n",
       "    'options_approved_level': 3,\n",
       "    'options_buying_power': '100000',\n",
       "    'options_trading_level': 3,\n",
       "    'pattern_day_trader': False,\n",
       "    'pending_transfer_in': None,\n",
       "    'pending_transfer_out': None,\n",
       "    'portfolio_value': '100000',\n",
       "    'regt_buying_power': '200000',\n",
       "    'short_market_value': '0',\n",
       "    'shorting_enabled': True,\n",
       "    'sma': '0',\n",
       "    'status': <AccountStatus.ACTIVE: 'ACTIVE'>,\n",
       "    'trade_suspended_by_user': False,\n",
       "    'trading_blocked': False,\n",
       "    'transfers_blocked': False}"
      ]
     },
     "execution_count": 8,
     "metadata": {},
     "output_type": "execute_result"
    }
   ],
   "source": [
    "# check trading account\n",
    "# You can check definition of each field in the following documents\n",
    "# ref. https://docs.alpaca.markets/docs/account-plans\n",
    "# ref. https://docs.alpaca.markets/reference/getaccount-1\n",
    "acct = trade_client.get_account()\n",
    "acct"
   ]
  },
  {
   "cell_type": "code",
   "execution_count": 9,
   "metadata": {},
   "outputs": [
    {
     "data": {
      "text/plain": [
       "{   'dtbp_check': <DTBPCheck.ENTRY: 'entry'>,\n",
       "    'fractional_trading': True,\n",
       "    'max_margin_multiplier': '4',\n",
       "    'max_options_trading_level': None,\n",
       "    'no_shorting': False,\n",
       "    'pdt_check': <PDTCheck.ENTRY: 'entry'>,\n",
       "    'ptp_no_exception_entry': False,\n",
       "    'suspend_trade': False,\n",
       "    'trade_confirm_email': <TradeConfirmationEmail.ALL: 'all'>}"
      ]
     },
     "execution_count": 9,
     "metadata": {},
     "output_type": "execute_result"
    }
   ],
   "source": [
    "# check account configuration\n",
    "# ref. https://docs.alpaca.markets/reference/getaccountconfig-1\n",
    "acct_config = trade_client.get_account_configurations()\n",
    "acct_config"
   ]
  },
  {
   "cell_type": "code",
   "execution_count": 10,
   "metadata": {},
   "outputs": [
    {
     "data": {
      "text/plain": [
       "{   'dtbp_check': <DTBPCheck.ENTRY: 'entry'>,\n",
       "    'fractional_trading': False,\n",
       "    'max_margin_multiplier': '4',\n",
       "    'max_options_trading_level': None,\n",
       "    'no_shorting': False,\n",
       "    'pdt_check': <PDTCheck.ENTRY: 'entry'>,\n",
       "    'ptp_no_exception_entry': False,\n",
       "    'suspend_trade': False,\n",
       "    'trade_confirm_email': <TradeConfirmationEmail.ALL: 'all'>}"
      ]
     },
     "metadata": {},
     "output_type": "display_data"
    },
    {
     "data": {
      "text/plain": [
       "{   'dtbp_check': <DTBPCheck.ENTRY: 'entry'>,\n",
       "    'fractional_trading': True,\n",
       "    'max_margin_multiplier': '4',\n",
       "    'max_options_trading_level': None,\n",
       "    'no_shorting': False,\n",
       "    'pdt_check': <PDTCheck.ENTRY: 'entry'>,\n",
       "    'ptp_no_exception_entry': False,\n",
       "    'suspend_trade': False,\n",
       "    'trade_confirm_email': <TradeConfirmationEmail.ALL: 'all'>}"
      ]
     },
     "metadata": {},
     "output_type": "display_data"
    }
   ],
   "source": [
    "# set account configuration\n",
    "# ref. https://docs.alpaca.markets/reference/patchaccountconfig-1\n",
    "req = acct_config\n",
    "req.fractional_trading = not req.fractional_trading # toggle fractional trading\n",
    "acct_config_new = trade_client.set_account_configurations(req)\n",
    "display(acct_config_new)\n",
    "\n",
    "# revert changes\n",
    "req = acct_config_new\n",
    "req.fractional_trading = not req.fractional_trading # toggle fractional trading\n",
    "acct_config_reverted = trade_client.set_account_configurations(req)\n",
    "display(acct_config_reverted)"
   ]
  },
  {
   "cell_type": "code",
   "execution_count": 11,
   "metadata": {},
   "outputs": [
    {
     "data": {
      "text/plain": [
       "[{   'asset_class': <AssetClass.US_EQUITY: 'us_equity'>,\n",
       "     'attributes': [],\n",
       "     'easy_to_borrow': False,\n",
       "     'exchange': <AssetExchange.NASDAQ: 'NASDAQ'>,\n",
       "     'fractionable': False,\n",
       "     'id': UUID('62555608-7e26-476b-b698-17a74f6ef56e'),\n",
       "     'maintenance_margin_requirement': 100.0,\n",
       "     'marginable': False,\n",
       "     'min_order_size': None,\n",
       "     'min_trade_increment': None,\n",
       "     'name': 'Fitell Corporation Ordinary Shares',\n",
       "     'price_increment': None,\n",
       "     'shortable': False,\n",
       "     'status': <AssetStatus.ACTIVE: 'active'>,\n",
       "     'symbol': 'FTEL',\n",
       "     'tradable': False},\n",
       " {   'asset_class': <AssetClass.US_EQUITY: 'us_equity'>,\n",
       "     'attributes': [],\n",
       "     'easy_to_borrow': False,\n",
       "     'exchange': <AssetExchange.NASDAQ: 'NASDAQ'>,\n",
       "     'fractionable': False,\n",
       "     'id': UUID('293c3b74-18e0-4dfd-8f43-9712e7fa18b5'),\n",
       "     'maintenance_margin_requirement': 100.0,\n",
       "     'marginable': False,\n",
       "     'min_order_size': None,\n",
       "     'min_trade_increment': None,\n",
       "     'name': 'Digital Ally, Inc. Common Stock',\n",
       "     'price_increment': None,\n",
       "     'shortable': False,\n",
       "     'status': <AssetStatus.ACTIVE: 'active'>,\n",
       "     'symbol': 'DGLY',\n",
       "     'tradable': False}]"
      ]
     },
     "execution_count": 11,
     "metadata": {},
     "output_type": "execute_result"
    }
   ],
   "source": [
    "# get list of assets which are us_equity (default), active, and in NASDAQ\n",
    "# ref. https://docs.alpaca.markets/reference/get-v2-assets-1\n",
    "req = GetAssetsRequest(\n",
    "  # asset_class=AssetClass.US_EQUITY,  # default asset_class is us_equity\n",
    "  status=AssetStatus.ACTIVE,\n",
    "  exchange=AssetExchange.NASDAQ,\n",
    ")\n",
    "assets = trade_client.get_all_assets(req)\n",
    "assets[:2]"
   ]
  },
  {
   "cell_type": "markdown",
   "metadata": {},
   "source": [
    "## Orders"
   ]
  },
  {
   "cell_type": "code",
   "execution_count": 12,
   "metadata": {},
   "outputs": [],
   "source": [
    "# we will place orders which Alapca trading platform supports\n",
    "# - order classes: simple, bracket, oco, oto\n",
    "# - order types: market, limit, stop, stop_limit, trailing_stop\n",
    "#\n",
    "# please refer to the following documents for more details\n",
    "# ref. https://docs.alpaca.markets/docs/orders-at-alpaca\n",
    "# ref. https://docs.alpaca.markets/reference/postorder\n",
    "#\n",
    "# we will also use fractional trading capability of Alpaca trading platform in this example\n",
    "# ref. https://docs.alpaca.markets/docs/fractional-trading\n",
    "\n",
    "# we will place orders for symbol: SPY in this example\n",
    "symbol = \"SPY\""
   ]
  },
  {
   "cell_type": "code",
   "execution_count": 13,
   "metadata": {},
   "outputs": [
    {
     "data": {
      "text/plain": [
       "{   'asset_class': <AssetClass.US_EQUITY: 'us_equity'>,\n",
       "    'asset_id': UUID('b28f4066-5c6d-479b-a2af-85dc1a8f16fb'),\n",
       "    'canceled_at': None,\n",
       "    'client_order_id': 'faf1b8c7-bbe3-4a96-bd7b-715112c49fa9',\n",
       "    'created_at': datetime.datetime(2025, 4, 12, 15, 16, 39, 571417, tzinfo=TzInfo(UTC)),\n",
       "    'expired_at': None,\n",
       "    'expires_at': datetime.datetime(2025, 4, 14, 20, 0, tzinfo=TzInfo(UTC)),\n",
       "    'extended_hours': False,\n",
       "    'failed_at': None,\n",
       "    'filled_at': None,\n",
       "    'filled_avg_price': None,\n",
       "    'filled_qty': '0',\n",
       "    'hwm': None,\n",
       "    'id': UUID('7e7cd0e1-2672-4e04-aae5-35932489775a'),\n",
       "    'legs': None,\n",
       "    'limit_price': None,\n",
       "    'notional': None,\n",
       "    'order_class': <OrderClass.SIMPLE: 'simple'>,\n",
       "    'order_type': <OrderType.MARKET: 'market'>,\n",
       "    'position_intent': <PositionIntent.BUY_TO_OPEN: 'buy_to_open'>,\n",
       "    'qty': '0.05',\n",
       "    'ratio_qty': None,\n",
       "    'replaced_at': None,\n",
       "    'replaced_by': None,\n",
       "    'replaces': None,\n",
       "    'side': <OrderSide.BUY: 'buy'>,\n",
       "    'status': <OrderStatus.ACCEPTED: 'accepted'>,\n",
       "    'stop_price': None,\n",
       "    'submitted_at': datetime.datetime(2025, 4, 12, 15, 16, 39, 571417, tzinfo=TzInfo(UTC)),\n",
       "    'symbol': 'SPY',\n",
       "    'time_in_force': <TimeInForce.DAY: 'day'>,\n",
       "    'trail_percent': None,\n",
       "    'trail_price': None,\n",
       "    'type': <OrderType.MARKET: 'market'>,\n",
       "    'updated_at': datetime.datetime(2025, 4, 12, 15, 16, 39, 573618, tzinfo=TzInfo(UTC))}"
      ]
     },
     "execution_count": 13,
     "metadata": {},
     "output_type": "execute_result"
    }
   ],
   "source": [
    "# simple, market order, fractional qty\n",
    "# Alpaca trading platform support fractional trading by default\n",
    "# you can specify:\n",
    "# fractional qty (e.g. 0.01 qty) in the order request (which is shown in this example)\n",
    "# or notional value (e.g. 100 USD) (which is in the next example)\n",
    "#\n",
    "# If you have an error of `qty must be integer`,\n",
    "# please try to `Reset Account` of your paper account via the Alpaca Trading API dashboard\n",
    "req = MarketOrderRequest(\n",
    "    symbol = symbol,\n",
    "    qty = 0.05,\n",
    "    side = OrderSide.BUY,\n",
    "    type = OrderType.MARKET,\n",
    "    time_in_force = TimeInForce.DAY,\n",
    ")\n",
    "res = trade_client.submit_order(req)\n",
    "res"
   ]
  },
  {
   "cell_type": "code",
   "execution_count": 14,
   "metadata": {},
   "outputs": [
    {
     "data": {
      "text/plain": [
       "{   'asset_class': <AssetClass.US_EQUITY: 'us_equity'>,\n",
       "    'asset_id': UUID('b28f4066-5c6d-479b-a2af-85dc1a8f16fb'),\n",
       "    'canceled_at': None,\n",
       "    'client_order_id': '36ef8fd6-9d63-4679-b2a4-0431639b8aa9',\n",
       "    'created_at': datetime.datetime(2025, 4, 12, 15, 17, 29, 951759, tzinfo=TzInfo(UTC)),\n",
       "    'expired_at': None,\n",
       "    'expires_at': datetime.datetime(2025, 4, 14, 20, 0, tzinfo=TzInfo(UTC)),\n",
       "    'extended_hours': False,\n",
       "    'failed_at': None,\n",
       "    'filled_at': None,\n",
       "    'filled_avg_price': None,\n",
       "    'filled_qty': '0',\n",
       "    'hwm': None,\n",
       "    'id': UUID('61d775a0-8b8f-47d8-9d67-5d5fe1356a0b'),\n",
       "    'legs': None,\n",
       "    'limit_price': None,\n",
       "    'notional': '1.11',\n",
       "    'order_class': <OrderClass.SIMPLE: 'simple'>,\n",
       "    'order_type': <OrderType.MARKET: 'market'>,\n",
       "    'position_intent': <PositionIntent.BUY_TO_OPEN: 'buy_to_open'>,\n",
       "    'qty': None,\n",
       "    'ratio_qty': None,\n",
       "    'replaced_at': None,\n",
       "    'replaced_by': None,\n",
       "    'replaces': None,\n",
       "    'side': <OrderSide.BUY: 'buy'>,\n",
       "    'status': <OrderStatus.ACCEPTED: 'accepted'>,\n",
       "    'stop_price': None,\n",
       "    'submitted_at': datetime.datetime(2025, 4, 12, 15, 17, 29, 951759, tzinfo=TzInfo(UTC)),\n",
       "    'symbol': 'SPY',\n",
       "    'time_in_force': <TimeInForce.DAY: 'day'>,\n",
       "    'trail_percent': None,\n",
       "    'trail_price': None,\n",
       "    'type': <OrderType.MARKET: 'market'>,\n",
       "    'updated_at': datetime.datetime(2025, 4, 12, 15, 17, 29, 952591, tzinfo=TzInfo(UTC))}"
      ]
     },
     "execution_count": 14,
     "metadata": {},
     "output_type": "execute_result"
    }
   ],
   "source": [
    "# simple, market order, notional\n",
    "# Alpaca trading platform support fractional trading by default\n",
    "# you can specify:\n",
    "# fractional qty (e.g. 0.01 qty) in the order request (which is in the example above)\n",
    "# or notional value (e.g. 100 USD) (which is in this example)\n",
    "req = MarketOrderRequest(\n",
    "    symbol = symbol,\n",
    "    notional = 1.11,  # notional is specified in USD, here we specify $1.11\n",
    "    side = OrderSide.BUY,\n",
    "    type = OrderType.MARKET,\n",
    "    time_in_force = TimeInForce.DAY,\n",
    "\n",
    ")\n",
    "res = trade_client.submit_order(req)\n",
    "res"
   ]
  },
  {
   "cell_type": "markdown",
   "metadata": {},
   "source": [
    "## Positions"
   ]
  },
  {
   "cell_type": "code",
   "execution_count": 15,
   "metadata": {},
   "outputs": [
    {
     "data": {
      "text/plain": [
       "[]"
      ]
     },
     "execution_count": 15,
     "metadata": {},
     "output_type": "execute_result"
    }
   ],
   "source": [
    "# get all open positions\n",
    "# ref. https://docs.alpaca.markets/reference/getallopenpositions-1\n",
    "positions = trade_client.get_all_positions()\n",
    "positions"
   ]
  },
  {
   "cell_type": "code",
   "execution_count": 16,
   "metadata": {},
   "outputs": [
    {
     "ename": "APIError",
     "evalue": "{\"code\":40410000,\"message\":\"position does not exist\"}",
     "output_type": "error",
     "traceback": [
      "\u001b[31m---------------------------------------------------------------------------\u001b[39m",
      "\u001b[31mHTTPError\u001b[39m                                 Traceback (most recent call last)",
      "\u001b[36mFile \u001b[39m\u001b[32mc:\\Users\\donav\\OneDrive\\Desktop\\Agents\\venv\\Lib\\site-packages\\alpaca\\common\\rest.py:198\u001b[39m, in \u001b[36mRESTClient._one_request\u001b[39m\u001b[34m(self, method, url, opts, retry)\u001b[39m\n\u001b[32m    197\u001b[39m \u001b[38;5;28;01mtry\u001b[39;00m:\n\u001b[32m--> \u001b[39m\u001b[32m198\u001b[39m     \u001b[43mresponse\u001b[49m\u001b[43m.\u001b[49m\u001b[43mraise_for_status\u001b[49m\u001b[43m(\u001b[49m\u001b[43m)\u001b[49m\n\u001b[32m    199\u001b[39m \u001b[38;5;28;01mexcept\u001b[39;00m HTTPError \u001b[38;5;28;01mas\u001b[39;00m http_error:\n\u001b[32m    200\u001b[39m     \u001b[38;5;66;03m# retry if we hit Rate Limit\u001b[39;00m\n",
      "\u001b[36mFile \u001b[39m\u001b[32mc:\\Users\\donav\\OneDrive\\Desktop\\Agents\\venv\\Lib\\site-packages\\requests\\models.py:1024\u001b[39m, in \u001b[36mResponse.raise_for_status\u001b[39m\u001b[34m(self)\u001b[39m\n\u001b[32m   1023\u001b[39m \u001b[38;5;28;01mif\u001b[39;00m http_error_msg:\n\u001b[32m-> \u001b[39m\u001b[32m1024\u001b[39m     \u001b[38;5;28;01mraise\u001b[39;00m HTTPError(http_error_msg, response=\u001b[38;5;28mself\u001b[39m)\n",
      "\u001b[31mHTTPError\u001b[39m: 404 Client Error: Not Found for url: https://paper-api.alpaca.markets/v2/positions/SPY",
      "\nDuring handling of the above exception, another exception occurred:\n",
      "\u001b[31mAPIError\u001b[39m                                  Traceback (most recent call last)",
      "\u001b[36mCell\u001b[39m\u001b[36m \u001b[39m\u001b[32mIn[16]\u001b[39m\u001b[32m, line 3\u001b[39m\n\u001b[32m      1\u001b[39m \u001b[38;5;66;03m# get positions by symbol\u001b[39;00m\n\u001b[32m      2\u001b[39m \u001b[38;5;66;03m# ref. https://docs.alpaca.markets/reference/getopenposition-1\u001b[39;00m\n\u001b[32m----> \u001b[39m\u001b[32m3\u001b[39m position = \u001b[43mtrade_client\u001b[49m\u001b[43m.\u001b[49m\u001b[43mget_open_position\u001b[49m\u001b[43m(\u001b[49m\u001b[43msymbol_or_asset_id\u001b[49m\u001b[43m=\u001b[49m\u001b[43msymbol\u001b[49m\u001b[43m)\u001b[49m\n\u001b[32m      4\u001b[39m position\n",
      "\u001b[36mFile \u001b[39m\u001b[32mc:\\Users\\donav\\OneDrive\\Desktop\\Agents\\venv\\Lib\\site-packages\\alpaca\\trading\\client.py:264\u001b[39m, in \u001b[36mTradingClient.get_open_position\u001b[39m\u001b[34m(self, symbol_or_asset_id)\u001b[39m\n\u001b[32m    254\u001b[39m \u001b[38;5;250m\u001b[39m\u001b[33;03m\"\"\"\u001b[39;00m\n\u001b[32m    255\u001b[39m \u001b[33;03mGets the open position for an account for a single asset. Throws an APIError if the position does not exist.\u001b[39;00m\n\u001b[32m    256\u001b[39m \n\u001b[32m   (...)\u001b[39m\u001b[32m    261\u001b[39m \u001b[33;03m    Position: Open position of the asset.\u001b[39;00m\n\u001b[32m    262\u001b[39m \u001b[33;03m\"\"\"\u001b[39;00m\n\u001b[32m    263\u001b[39m symbol_or_asset_id = validate_symbol_or_asset_id(symbol_or_asset_id)\n\u001b[32m--> \u001b[39m\u001b[32m264\u001b[39m response = \u001b[38;5;28;43mself\u001b[39;49m\u001b[43m.\u001b[49m\u001b[43mget\u001b[49m\u001b[43m(\u001b[49m\u001b[33;43mf\u001b[39;49m\u001b[33;43m\"\u001b[39;49m\u001b[33;43m/positions/\u001b[39;49m\u001b[38;5;132;43;01m{\u001b[39;49;00m\u001b[43msymbol_or_asset_id\u001b[49m\u001b[38;5;132;43;01m}\u001b[39;49;00m\u001b[33;43m\"\u001b[39;49m\u001b[43m)\u001b[49m\n\u001b[32m    266\u001b[39m \u001b[38;5;28;01mif\u001b[39;00m \u001b[38;5;28mself\u001b[39m._use_raw_data:\n\u001b[32m    267\u001b[39m     \u001b[38;5;28;01mreturn\u001b[39;00m response\n",
      "\u001b[36mFile \u001b[39m\u001b[32mc:\\Users\\donav\\OneDrive\\Desktop\\Agents\\venv\\Lib\\site-packages\\alpaca\\common\\rest.py:225\u001b[39m, in \u001b[36mRESTClient.get\u001b[39m\u001b[34m(self, path, data, **kwargs)\u001b[39m\n\u001b[32m    212\u001b[39m \u001b[38;5;28;01mdef\u001b[39;00m\u001b[38;5;250m \u001b[39m\u001b[34mget\u001b[39m(\n\u001b[32m    213\u001b[39m     \u001b[38;5;28mself\u001b[39m, path: \u001b[38;5;28mstr\u001b[39m, data: Optional[Union[\u001b[38;5;28mdict\u001b[39m, \u001b[38;5;28mstr\u001b[39m]] = \u001b[38;5;28;01mNone\u001b[39;00m, **kwargs\n\u001b[32m    214\u001b[39m ) -> HTTPResult:\n\u001b[32m    215\u001b[39m \u001b[38;5;250m    \u001b[39m\u001b[33;03m\"\"\"Performs a single GET request\u001b[39;00m\n\u001b[32m    216\u001b[39m \n\u001b[32m    217\u001b[39m \u001b[33;03m    Args:\u001b[39;00m\n\u001b[32m   (...)\u001b[39m\u001b[32m    223\u001b[39m \u001b[33;03m        dict: The response\u001b[39;00m\n\u001b[32m    224\u001b[39m \u001b[33;03m    \"\"\"\u001b[39;00m\n\u001b[32m--> \u001b[39m\u001b[32m225\u001b[39m     \u001b[38;5;28;01mreturn\u001b[39;00m \u001b[38;5;28;43mself\u001b[39;49m\u001b[43m.\u001b[49m\u001b[43m_request\u001b[49m\u001b[43m(\u001b[49m\u001b[33;43m\"\u001b[39;49m\u001b[33;43mGET\u001b[39;49m\u001b[33;43m\"\u001b[39;49m\u001b[43m,\u001b[49m\u001b[43m \u001b[49m\u001b[43mpath\u001b[49m\u001b[43m,\u001b[49m\u001b[43m \u001b[49m\u001b[43mdata\u001b[49m\u001b[43m,\u001b[49m\u001b[43m \u001b[49m\u001b[43m*\u001b[49m\u001b[43m*\u001b[49m\u001b[43mkwargs\u001b[49m\u001b[43m)\u001b[49m\n",
      "\u001b[36mFile \u001b[39m\u001b[32mc:\\Users\\donav\\OneDrive\\Desktop\\Agents\\venv\\Lib\\site-packages\\alpaca\\common\\rest.py:131\u001b[39m, in \u001b[36mRESTClient._request\u001b[39m\u001b[34m(self, method, path, data, base_url, api_version)\u001b[39m\n\u001b[32m    129\u001b[39m \u001b[38;5;28;01mwhile\u001b[39;00m retry >= \u001b[32m0\u001b[39m:\n\u001b[32m    130\u001b[39m     \u001b[38;5;28;01mtry\u001b[39;00m:\n\u001b[32m--> \u001b[39m\u001b[32m131\u001b[39m         \u001b[38;5;28;01mreturn\u001b[39;00m \u001b[38;5;28;43mself\u001b[39;49m\u001b[43m.\u001b[49m\u001b[43m_one_request\u001b[49m\u001b[43m(\u001b[49m\u001b[43mmethod\u001b[49m\u001b[43m,\u001b[49m\u001b[43m \u001b[49m\u001b[43murl\u001b[49m\u001b[43m,\u001b[49m\u001b[43m \u001b[49m\u001b[43mopts\u001b[49m\u001b[43m,\u001b[49m\u001b[43m \u001b[49m\u001b[43mretry\u001b[49m\u001b[43m)\u001b[49m\n\u001b[32m    132\u001b[39m     \u001b[38;5;28;01mexcept\u001b[39;00m RetryException:\n\u001b[32m    133\u001b[39m         time.sleep(\u001b[38;5;28mself\u001b[39m._retry_wait)\n",
      "\u001b[36mFile \u001b[39m\u001b[32mc:\\Users\\donav\\OneDrive\\Desktop\\Agents\\venv\\Lib\\site-packages\\alpaca\\common\\rest.py:207\u001b[39m, in \u001b[36mRESTClient._one_request\u001b[39m\u001b[34m(self, method, url, opts, retry)\u001b[39m\n\u001b[32m    204\u001b[39m     \u001b[38;5;66;03m# raise API error for all other errors\u001b[39;00m\n\u001b[32m    205\u001b[39m     error = response.text\n\u001b[32m--> \u001b[39m\u001b[32m207\u001b[39m     \u001b[38;5;28;01mraise\u001b[39;00m APIError(error, http_error)\n\u001b[32m    209\u001b[39m \u001b[38;5;28;01mif\u001b[39;00m response.text != \u001b[33m\"\u001b[39m\u001b[33m\"\u001b[39m:\n\u001b[32m    210\u001b[39m     \u001b[38;5;28;01mreturn\u001b[39;00m response.json()\n",
      "\u001b[31mAPIError\u001b[39m: {\"code\":40410000,\"message\":\"position does not exist\"}"
     ]
    }
   ],
   "source": [
    "# get positions by symbol\n",
    "# ref. https://docs.alpaca.markets/reference/getopenposition-1\n",
    "position = trade_client.get_open_position(symbol_or_asset_id=symbol)\n",
    "position"
   ]
  },
  {
   "cell_type": "code",
   "execution_count": 17,
   "metadata": {},
   "outputs": [
    {
     "ename": "NameError",
     "evalue": "name 'position' is not defined",
     "output_type": "error",
     "traceback": [
      "\u001b[31m---------------------------------------------------------------------------\u001b[39m",
      "\u001b[31mNameError\u001b[39m                                 Traceback (most recent call last)",
      "\u001b[36mCell\u001b[39m\u001b[36m \u001b[39m\u001b[32mIn[17]\u001b[39m\u001b[32m, line 2\u001b[39m\n\u001b[32m      1\u001b[39m \u001b[38;5;66;03m# get positions by asset_id\u001b[39;00m\n\u001b[32m----> \u001b[39m\u001b[32m2\u001b[39m trade_client.get_open_position(symbol_or_asset_id=\u001b[43mposition\u001b[49m.asset_id)\n",
      "\u001b[31mNameError\u001b[39m: name 'position' is not defined"
     ]
    }
   ],
   "source": [
    "# get positions by asset_id\n",
    "trade_client.get_open_position(symbol_or_asset_id=position.asset_id)"
   ]
  },
  {
   "cell_type": "code",
   "execution_count": null,
   "metadata": {},
   "outputs": [],
   "source": []
  }
 ],
 "metadata": {
  "kernelspec": {
   "display_name": "venv",
   "language": "python",
   "name": "python3"
  },
  "language_info": {
   "codemirror_mode": {
    "name": "ipython",
    "version": 3
   },
   "file_extension": ".py",
   "mimetype": "text/x-python",
   "name": "python",
   "nbconvert_exporter": "python",
   "pygments_lexer": "ipython3",
   "version": "3.12.9"
  }
 },
 "nbformat": 4,
 "nbformat_minor": 2
}
